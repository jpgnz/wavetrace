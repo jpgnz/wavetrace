{
 "cells": [
  {
   "cell_type": "code",
   "execution_count": null,
   "metadata": {
    "collapsed": false
   },
   "outputs": [],
   "source": [
    "import sys\n",
    "from pathlib import Path\n",
    "import shutil\n",
    "import json\n",
    "import csv\n",
    "import re\n",
    "import math\n",
    "\n",
    "from shapely.geometry import Point\n",
    "import requests\n",
    "\n",
    "ROOT = Path('..')\n",
    "sys.path.append(str(ROOT))\n",
    "\n",
    "import wavetrace as wt\n",
    "\n",
    "%load_ext autoreload\n",
    "%autoreload 2\n",
    "\n",
    "TMP_DIR = ROOT/'TMP_DIR'\n"
   ]
  },
  {
   "cell_type": "code",
   "execution_count": null,
   "metadata": {
    "collapsed": false
   },
   "outputs": [],
   "source": [
    "# # Visually check that SRTM tiles cover NZ by \n",
    "# # making polygons and viewing them at https://geojson.io.\n",
    "\n",
    "# tids = wt.SRTM_NZ_TILE_IDS\n",
    "# collection = {\n",
    "#     'type': 'FeatureCollection', \n",
    "#     'features': list(map(wt.build_feature, tids))\n",
    "#     }\n",
    "# json.dumps(collection)"
   ]
  },
  {
   "cell_type": "code",
   "execution_count": null,
   "metadata": {
    "collapsed": false
   },
   "outputs": [],
   "source": [
    "# Initialize\n",
    "\n",
    "wt.rm_paths(TMP_DIR)\n",
    "#transmitters_path = ROOT/'tests'/'data'/'transmitters.csv'\n",
    "transmitters_path = ROOT/'tests'/'data'/'transmitters_single.csv'\n",
    "high_definition = False\n",
    "if high_definition:\n",
    "    topography_path = TMP_DIR/'srtm1'\n",
    "else:\n",
    "    topography_path = TMP_DIR/'srtm3'\n"
   ]
  },
  {
   "cell_type": "code",
   "execution_count": null,
   "metadata": {
    "collapsed": false
   },
   "outputs": [],
   "source": [
    "# Process transmitters\n",
    "\n",
    "out_path = TMP_DIR/'splat_files'   \n",
    "wt.process_transmitters(transmitters_path, out_path)\n",
    "\n",
    "% ls {out_path}"
   ]
  },
  {
   "cell_type": "code",
   "execution_count": null,
   "metadata": {
    "collapsed": false
   },
   "outputs": [],
   "source": [
    "# Download topography\n",
    "\n",
    "transmitters = wt.read_transmitters(transmitters_path)\n",
    "print('transmitters=', transmitters)\n",
    "\n",
    "tids = wt.get_covering_tiles_ids(transmitters)\n",
    "print('Tiles to download =', tids)\n",
    "\n",
    "wt.download_topography(tids, topography_path, \n",
    "  high_definition=high_definition)\n",
    "\n",
    "% ls {topography_path}"
   ]
  },
  {
   "cell_type": "code",
   "execution_count": null,
   "metadata": {
    "collapsed": false
   },
   "outputs": [],
   "source": [
    "# Process topography\n",
    "\n",
    "out_path = TMP_DIR/'splat_files'\n",
    "wt.process_topography(topography_path, out_path, \n",
    "  high_definition=high_definition)\n",
    "\n",
    "% ll -h {out_path}"
   ]
  },
  {
   "cell_type": "code",
   "execution_count": null,
   "metadata": {
    "collapsed": false
   },
   "outputs": [],
   "source": [
    "# Compute coverage\n",
    "\n",
    "in_path = TMP_DIR/'splat_files'\n",
    "out_path = TMP_DIR/'coverage_reports'\n",
    "wt.compute_coverage(in_path, out_path, high_definition=high_definition, make_shp=True)\n",
    "\n",
    "% ls {out_path}"
   ]
  },
  {
   "cell_type": "code",
   "execution_count": null,
   "metadata": {
    "collapsed": false
   },
   "outputs": [],
   "source": [
    "# Compute satellite line-of-sight for the Optus D2 geostationary satellite \n",
    "# at 152 degrees longitude\n",
    "\n",
    "in_path = (TMP_DIR/'srtm3'/'S36E173.SRTMGL3.hgt.zip').resolve()\n",
    "satellite_lon = 152\n",
    "tile_id = wt.get_tile_id(in_path)\n",
    "out_path = TMP_DIR/'{!s}_satellite_los.tif'.format(tile_id)\n",
    "wt.compute_satellite_los(in_path, satellite_lon, out_path)"
   ]
  },
  {
   "cell_type": "code",
   "execution_count": null,
   "metadata": {
    "collapsed": false
   },
   "outputs": [],
   "source": [
    "# Clean up\n",
    "\n",
    "wt.rm_paths(TMP_DIR)"
   ]
  },
  {
   "cell_type": "code",
   "execution_count": null,
   "metadata": {
    "collapsed": true
   },
   "outputs": [],
   "source": []
  }
 ],
 "metadata": {
  "kernelspec": {
   "display_name": "Python 3",
   "language": "python",
   "name": "python3"
  },
  "language_info": {
   "codemirror_mode": {
    "name": "ipython",
    "version": 3
   },
   "file_extension": ".py",
   "mimetype": "text/x-python",
   "name": "python",
   "nbconvert_exporter": "python",
   "pygments_lexer": "ipython3",
   "version": "3.5.3"
  }
 },
 "nbformat": 4,
 "nbformat_minor": 0
}
